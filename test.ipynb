{
 "cells": [
  {
   "cell_type": "code",
   "execution_count": 2,
   "metadata": {
    "collapsed": true
   },
   "outputs": [],
   "source": [
    "import pandas as pd"
   ]
  },
  {
   "cell_type": "code",
   "execution_count": 26,
   "metadata": {},
   "outputs": [],
   "source": [
    "stock_data = pd.read_excel('D:\\\\rqadatas\\\\510300.xlsx', \n",
    "                           parse_dates=['时间'], \n",
    "                           date_parser=lambda date:date.split(',')[0])"
   ]
  },
  {
   "cell_type": "code",
   "execution_count": 27,
   "metadata": {},
   "outputs": [],
   "source": [
    "stock_data.sort_values(by='时间', inplace=True)"
   ]
  },
  {
   "cell_type": "code",
   "execution_count": 28,
   "metadata": {},
   "outputs": [],
   "source": [
    "stock_data.drop(columns=['总手','金额','换手%','成交次数'], inplace=True)"
   ]
  },
  {
   "cell_type": "code",
   "execution_count": 29,
   "metadata": {},
   "outputs": [],
   "source": [
    "stock_data['ma_short'] = stock_data['收盘'].rolling(5, min_periods=1).mean()"
   ]
  },
  {
   "cell_type": "code",
   "execution_count": 30,
   "metadata": {
    "collapsed": false
   },
   "outputs": [],
   "source": [
    "stock_data['ma_long'] = stock_data['收盘'].rolling(60,min_periods=1).mean()"
   ]
  },
  {
   "cell_type": "code",
   "execution_count": 31,
   "metadata": {
    "collapsed": false
   },
   "outputs": [],
   "source": [
    "stock_data.loc[stock_data['ma_short'].shift(1) > stock_data['ma_long'].shift(1), 'position'] = 1"
   ]
  },
  {
   "cell_type": "code",
   "execution_count": 32,
   "metadata": {},
   "outputs": [],
   "source": [
    "stock_data.loc[stock_data['ma_short'].shift(1) < stock_data['ma_long'].shift(1), 'position'] = 0"
   ]
  },
  {
   "cell_type": "code",
   "execution_count": 33,
   "metadata": {
    "collapsed": false
   },
   "outputs": [],
   "source": [
    "stock_data.fillna(0, inplace=True)"
   ]
  },
  {
   "cell_type": "code",
   "execution_count": 53,
   "metadata": {},
   "outputs": [],
   "source": [
    ""
   ]
  },
  {
   "cell_type": "code",
   "execution_count": 53,
   "metadata": {
    "collapsed": false
   },
   "outputs": [],
   "source": [
    "slippage=1.0/1000\n",
    "commision_rate=2.5/1000\n",
    "stock_data.loc[stock_data['position'] > stock_data['position'].shift(1), 'capital_rtn'] = \\\n",
    "    (stock_data['收盘'] / stock_data['开盘'] - 1) * \\\n",
    "    (1 - slippage - commision_rate) * (stock_data['position'] - stock_data['position'].shift(1)) + \\\n",
    "    stock_data['涨幅'] * stock_data['position'].shift(1)"
   ]
  },
  {
   "cell_type": "code",
   "execution_count": 60,
   "metadata": {
    "collapsed": true
   },
   "outputs": [
    {
     "name": "stderr",
     "output_type": "stream",
     "text": [
      "C:\\Users\\yuanq\\Anaconda3\\envs\\ptrhon36\\lib\\site-packages\\pandas\\core\\indexing.py:189: SettingWithCopyWarning: \nA value is trying to be set on a copy of a slice from a DataFrame\n\nSee the caveats in the documentation: http://pandas.pydata.org/pandas-docs/stable/indexing.html#indexing-view-versus-copy\n  self._setitem_with_indexer(indexer, value)\n"
     ]
    }
   ],
   "source": [
    "stock_data['capital_rtn'].iloc[0]=0"
   ]
  },
  {
   "cell_type": "code",
   "execution_count": 64,
   "metadata": {
    "collapsed": false
   },
   "outputs": [],
   "source": [
    "stock_data.loc[stock_data['position'] < stock_data['position'].shift(1), 'capital_rtn'] = \\\n",
    "    (stock_data['开盘'] / stock_data['收盘'].shift(1) - 1) * \\\n",
    "    (1 - slippage - commision_rate) * \\\n",
    "    (stock_data['position'].shift(1) - stock_data['position']) + stock_data['涨幅'] * stock_data['position']"
   ]
  },
  {
   "cell_type": "code",
   "execution_count": 66,
   "metadata": {},
   "outputs": [],
   "source": [
    "stock_data.loc[stock_data['position'] < stock_data['position'].shift(1), 'capital_rtn'] = stock_data['涨幅'] * stock_data['position']"
   ]
  },
  {
   "cell_type": "code",
   "execution_count": null,
   "metadata": {},
   "outputs": [],
   "source": []
  }
 ],
 "metadata": {
  "kernelspec": {
   "display_name": "Python 2",
   "language": "python",
   "name": "python2"
  },
  "language_info": {
   "codemirror_mode": {
    "name": "ipython",
    "version": 2
   },
   "file_extension": ".py",
   "mimetype": "text/x-python",
   "name": "python",
   "nbconvert_exporter": "python",
   "pygments_lexer": "ipython2",
   "version": "2.7.6"
  }
 },
 "nbformat": 4,
 "nbformat_minor": 0
}
